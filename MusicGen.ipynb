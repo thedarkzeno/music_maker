{
 "cells": [
  {
   "cell_type": "code",
   "execution_count": 1,
   "metadata": {},
   "outputs": [
    {
     "name": "stderr",
     "output_type": "stream",
     "text": [
      "Using Theano backend.\n",
      "WARNING (theano.tensor.blas): Using NumPy C-API based implementation for BLAS functions.\n"
     ]
    }
   ],
   "source": [
    "import keras"
   ]
  },
  {
   "cell_type": "code",
   "execution_count": 89,
   "metadata": {},
   "outputs": [],
   "source": [
    "import numpy as np\n",
    "from keras.models import Sequential, load_model\n",
    "from keras.layers import Dense, LSTM, Conv1D, Flatten, MaxPooling1D\n",
    "from keras.layers import Activation, LeakyReLU\n",
    "from keras.callbacks import ModelCheckpoint, LearningRateScheduler\n",
    "import pretty_midi"
   ]
  },
  {
   "cell_type": "code",
   "execution_count": 3,
   "metadata": {},
   "outputs": [],
   "source": [
    "TIME_STEPS=10\n",
    "MIN_TIME=0.1"
   ]
  },
  {
   "cell_type": "code",
   "execution_count": 4,
   "metadata": {},
   "outputs": [],
   "source": [
    "def make_model():\n",
    "    model=Sequential()\n",
    "    model.add(LSTM(256, input_shape=(TIME_STEPS,88), return_sequences=True))\n",
    "    model.add(LeakyReLU(alpha=0.1))\n",
    "    model.add(Conv1D(filters=256, kernel_size=5))\n",
    "    model.add(LeakyReLU(alpha=0.1))\n",
    "    model.add(MaxPooling1D(pool_size=2))\n",
    "    model.add(LeakyReLU(alpha=0.1))\n",
    "    model.add(Conv1D(filters=128, kernel_size=2))\n",
    "    model.add(LeakyReLU(alpha=0.1))\n",
    "    model.add(MaxPooling1D(pool_size=2))\n",
    "    model.add(LeakyReLU(alpha=0.1))\n",
    "    model.add(Flatten())\n",
    "    model.add(Dense(88, activation=\"softmax\"))\n",
    "    \n",
    "    model.compile(loss=\"categorical_crossentropy\", optimizer=\"adam\")\n",
    "    return model"
   ]
  },
  {
   "cell_type": "code",
   "execution_count": 7,
   "metadata": {},
   "outputs": [],
   "source": [
    "model=make_model()\n",
    "#model=load_model(\"model_20.hdf5\")"
   ]
  },
  {
   "cell_type": "code",
   "execution_count": 13,
   "metadata": {},
   "outputs": [
    {
     "name": "stdout",
     "output_type": "stream",
     "text": [
      "_________________________________________________________________\n",
      "Layer (type)                 Output Shape              Param #   \n",
      "=================================================================\n",
      "lstm_3 (LSTM)                (None, 10, 258)           358104    \n",
      "_________________________________________________________________\n",
      "leaky_re_lu_11 (LeakyReLU)   (None, 10, 258)           0         \n",
      "_________________________________________________________________\n",
      "conv1d_5 (Conv1D)            (None, 6, 258)            333078    \n",
      "_________________________________________________________________\n",
      "leaky_re_lu_12 (LeakyReLU)   (None, 6, 258)            0         \n",
      "_________________________________________________________________\n",
      "max_pooling1d_5 (MaxPooling1 (None, 3, 258)            0         \n",
      "_________________________________________________________________\n",
      "leaky_re_lu_13 (LeakyReLU)   (None, 3, 258)            0         \n",
      "_________________________________________________________________\n",
      "conv1d_6 (Conv1D)            (None, 2, 128)            66176     \n",
      "_________________________________________________________________\n",
      "leaky_re_lu_14 (LeakyReLU)   (None, 2, 128)            0         \n",
      "_________________________________________________________________\n",
      "max_pooling1d_6 (MaxPooling1 (None, 1, 128)            0         \n",
      "_________________________________________________________________\n",
      "leaky_re_lu_15 (LeakyReLU)   (None, 1, 128)            0         \n",
      "_________________________________________________________________\n",
      "flatten_3 (Flatten)          (None, 128)               0         \n",
      "_________________________________________________________________\n",
      "dense_2 (Dense)              (None, 88)                11352     \n",
      "=================================================================\n",
      "Total params: 768,710\n",
      "Trainable params: 768,710\n",
      "Non-trainable params: 0\n",
      "_________________________________________________________________\n"
     ]
    }
   ],
   "source": [
    "model.summary()"
   ]
  },
  {
   "cell_type": "code",
   "execution_count": 52,
   "metadata": {},
   "outputs": [],
   "source": [
    "midi_data = pretty_midi.PrettyMIDI('musics/fantaisie.mid')"
   ]
  },
  {
   "cell_type": "code",
   "execution_count": 53,
   "metadata": {},
   "outputs": [
    {
     "data": {
      "text/plain": [
       "[Instrument(program=1, is_drum=False, name=\"Piano right\"),\n",
       " Instrument(program=1, is_drum=False, name=\"Piano left\")]"
      ]
     },
     "execution_count": 53,
     "metadata": {},
     "output_type": "execute_result"
    }
   ],
   "source": [
    "midi_data.instruments"
   ]
  },
  {
   "cell_type": "code",
   "execution_count": 54,
   "metadata": {},
   "outputs": [],
   "source": [
    "notes=[]\n",
    "\n",
    "for j in range(1): #len(midi_data.instruments) for all instruments \n",
    "    temp=[]\n",
    "    for i in range(len(midi_data.instruments[j].notes)):\n",
    "        if(i>0):\n",
    "            diff=midi_data.instruments[j].notes[i].start-midi_data.instruments[j].notes[i-1].start\n",
    "            for k in range(int(diff/MIN_TIME)):\n",
    "                temp.append(np.full((88), 0))\n",
    "        pitch_format=np.full((88), 0)\n",
    "        pitch_format[midi_data.instruments[j].notes[i].pitch-21]=1\n",
    "        temp.append(pitch_format)\n",
    "    notes.append(temp)"
   ]
  },
  {
   "cell_type": "code",
   "execution_count": 55,
   "metadata": {},
   "outputs": [],
   "source": [
    "models=[]\n",
    "for j in range(1): #len(midi_data.instruments) for all instruments \n",
    "    models.append(make_model())"
   ]
  },
  {
   "cell_type": "code",
   "execution_count": 56,
   "metadata": {},
   "outputs": [],
   "source": [
    "def get_in_out(data, n):\n",
    "    inp=[]\n",
    "    out=[]\n",
    "    for i in range(int(len(data))-(n-1)):\n",
    "        pinp=[]\n",
    "        for j in range(n):\n",
    "            pinp.append(data[i+j])  \n",
    "        inp.append(pinp)\n",
    "        if(i<len(data)-n):\n",
    "            out.append(data[i+n])\n",
    "    return inp, out\n",
    "data_in=[]\n",
    "data_out=[]\n",
    "for i in range(1): #len(midi_data.instruments) for all instruments \n",
    "    x, y=get_in_out(notes[i], TIME_STEPS)\n",
    "    data_in.append(x)\n",
    "    data_out.append(y)"
   ]
  },
  {
   "cell_type": "code",
   "execution_count": 57,
   "metadata": {},
   "outputs": [],
   "source": [
    "Input_train=[]\n",
    "Input_test=[]\n",
    "Output_train=[]\n",
    "Output_test=[]\n",
    "for j in range(1): #len(midi_data.instruments) for all instruments \n",
    "    Input=np.array(data_in[j][:-1]).reshape(len(data_in[j][:-1]),TIME_STEPS, 88)\n",
    "    Output=np.array(data_out[j]).reshape(len(data_out[j]), 88)\n",
    "    Input_train.append(Input[:len(Input)//2])\n",
    "    Input_test.append(Input[len(Input)//2:])\n",
    "    Output_train.append(Output[:len(Output)//2])\n",
    "    Output_test.append(Output[len(Output)//2:])"
   ]
  },
  {
   "cell_type": "code",
   "execution_count": 97,
   "metadata": {},
   "outputs": [],
   "source": [
    "import math\n",
    "def step_decay(epoch):\n",
    "    initial_lrate = 0.001\n",
    "    drop = 0.9\n",
    "    epochs_drop = 3.0\n",
    "    lrate = initial_lrate * math.pow(drop, math.floor((1+epoch)/epochs_drop))\n",
    "    return lrate"
   ]
  },
  {
   "cell_type": "code",
   "execution_count": 98,
   "metadata": {
    "scrolled": true
   },
   "outputs": [
    {
     "name": "stdout",
     "output_type": "stream",
     "text": [
      "Epoch 1/20\n",
      "1627/1627 [==============================] - 64s 40ms/step - loss: 0.0606\n",
      "Epoch 2/20\n",
      "1627/1627 [==============================] - 23s 14ms/step - loss: 0.0597\n",
      "Epoch 3/20\n",
      "1627/1627 [==============================] - 25s 15ms/step - loss: 0.0598\n",
      "Epoch 4/20\n",
      "1627/1627 [==============================] - 26s 16ms/step - loss: 0.0589\n",
      "Epoch 5/20\n",
      "1627/1627 [==============================] - 24s 15ms/step - loss: 0.0589\n",
      "Epoch 6/20\n",
      "1627/1627 [==============================] - 25s 15ms/step - loss: 0.0586\n",
      "Epoch 7/20\n",
      "1627/1627 [==============================] - 25s 15ms/step - loss: 0.0586\n",
      "Epoch 8/20\n",
      "1627/1627 [==============================] - 25s 15ms/step - loss: 0.0584\n",
      "Epoch 9/20\n",
      "1627/1627 [==============================] - 26s 16ms/step - loss: 0.0584\n",
      "Epoch 10/20\n",
      "1627/1627 [==============================] - 25s 15ms/step - loss: 0.0583\n",
      "Epoch 11/20\n",
      "1627/1627 [==============================] - 26s 16ms/step - loss: 0.0583\n",
      "Epoch 12/20\n",
      "1627/1627 [==============================] - 27s 17ms/step - loss: 0.0582\n",
      "Epoch 13/20\n",
      "1627/1627 [==============================] - 27s 17ms/step - loss: 0.0582\n",
      "Epoch 14/20\n",
      "1627/1627 [==============================] - 26s 16ms/step - loss: 0.0582\n",
      "Epoch 15/20\n",
      "1627/1627 [==============================] - 27s 17ms/step - loss: 0.0582\n",
      "Epoch 16/20\n",
      "1627/1627 [==============================] - 26s 16ms/step - loss: 0.0582\n",
      "Epoch 17/20\n",
      "1627/1627 [==============================] - 26s 16ms/step - loss: 0.0582\n",
      "Epoch 18/20\n",
      "1627/1627 [==============================] - 26s 16ms/step - loss: 0.0582\n",
      "Epoch 19/20\n",
      "1627/1627 [==============================] - 27s 16ms/step - loss: 0.0582\n",
      "Epoch 20/20\n",
      "1627/1627 [==============================] - 27s 17ms/step - loss: 0.0582\n",
      "Epoch 1/20\n",
      "1791/1791 [==============================] - 30s 17ms/step - loss: 0.0715\n",
      "Epoch 2/20\n",
      "1791/1791 [==============================] - 28s 16ms/step - loss: 0.0698\n",
      "Epoch 3/20\n",
      "1791/1791 [==============================] - 28s 16ms/step - loss: 0.0700\n",
      "Epoch 4/20\n",
      "1791/1791 [==============================] - 29s 16ms/step - loss: 0.0691\n",
      "Epoch 5/20\n",
      "1791/1791 [==============================] - 28s 16ms/step - loss: 0.0691\n",
      "Epoch 6/20\n",
      "1791/1791 [==============================] - 28s 16ms/step - loss: 0.0686\n",
      "Epoch 7/20\n",
      "1791/1791 [==============================] - 29s 16ms/step - loss: 0.0687\n",
      "Epoch 8/20\n",
      "1791/1791 [==============================] - 29s 16ms/step - loss: 0.0684\n",
      "Epoch 9/20\n",
      "1791/1791 [==============================] - 29s 16ms/step - loss: 0.0684\n",
      "Epoch 10/20\n",
      "1791/1791 [==============================] - 28s 16ms/step - loss: 0.0683\n",
      "Epoch 11/20\n",
      "1791/1791 [==============================] - 29s 16ms/step - loss: 0.0683\n",
      "Epoch 12/20\n",
      "1791/1791 [==============================] - 29s 16ms/step - loss: 0.0683\n",
      "Epoch 13/20\n",
      "1791/1791 [==============================] - 29s 16ms/step - loss: 0.0683\n",
      "Epoch 14/20\n",
      "1791/1791 [==============================] - 29s 16ms/step - loss: 0.0682\n",
      "Epoch 15/20\n",
      "1791/1791 [==============================] - 29s 16ms/step - loss: 0.0682\n",
      "Epoch 16/20\n",
      "1791/1791 [==============================] - 37s 21ms/step - loss: 0.0682\n",
      "Epoch 17/20\n",
      "1791/1791 [==============================] - 35s 20ms/step - loss: 0.0682\n",
      "Epoch 18/20\n",
      "1791/1791 [==============================] - 30s 17ms/step - loss: 0.0682\n",
      "Epoch 19/20\n",
      "1791/1791 [==============================] - 29s 16ms/step - loss: 0.0682\n",
      "Epoch 20/20\n",
      "1791/1791 [==============================] - 31s 17ms/step - loss: 0.0682\n"
     ]
    }
   ],
   "source": [
    "for j in range(1): #len(midi_data.instruments) for all instruments \n",
    "    checkpoint = ModelCheckpoint(\"models/model_\"+str(j)+\".hdf5\", save_best_only=False)\n",
    "    lrate = LearningRateScheduler(step_decay)\n",
    "    models[j].fit(Input_train[j], Output_train[j], epochs=100, callbacks=[checkpoint, lrate])"
   ]
  },
  {
   "cell_type": "code",
   "execution_count": 115,
   "metadata": {},
   "outputs": [],
   "source": [
    "pred_notes = []\n",
    "for j in range(1):  #len(midi_data.instruments) for all instruments   \n",
    "    pred_notes.append(models[j].predict(np.array(Input_test[j]).reshape(len(Input_test[j]),TIME_STEPS, 88)))"
   ]
  },
  {
   "cell_type": "code",
   "execution_count": 123,
   "metadata": {},
   "outputs": [],
   "source": [
    "import random\n",
    "\n",
    "def last_N(data, N):\n",
    "    last=[]\n",
    "    for i in range(N):\n",
    "        last.append(data[len(data)-N+i])\n",
    "    return last\n",
    "def gen_N(N):\n",
    "    data=[]\n",
    "    for i in range(N):\n",
    "        p=np.full((1, 88), 0).reshape(88)\n",
    "        p[random.randint(0,87)]=1\n",
    "        data.append(p)\n",
    "    return data\n",
    "pred_notes = []\n",
    "for j in range(1):  #len(midi_data.instruments) for all instruments \n",
    "    temp=gen_N(TIME_STEPS)\n",
    "    for i in range(len(Input_test[j])):\n",
    "        last=last_N(temp, TIME_STEPS)\n",
    "        pred=models[j].predict(np.array(last).reshape(1, TIME_STEPS, 88))[0]\n",
    "        temp.append(pred)\n",
    "        if(i%50==0):\n",
    "            temp.append(gen_N(1)[0]) #add a little randomness\n",
    "    pred_notes.append(temp)\n",
    "        #print(np.argmax(last[0]))"
   ]
  },
  {
   "cell_type": "code",
   "execution_count": 124,
   "metadata": {},
   "outputs": [],
   "source": [
    "instrument_c_chord = pretty_midi.PrettyMIDI()\n",
    "\n",
    "for j in range(1): #len(midi_data.instruments) for all instruments \n",
    "    instrument = pretty_midi.Instrument(program=midi_data.instruments[j].program, is_drum=midi_data.instruments[j].is_drum)\n",
    "    time=0\n",
    "    mult=1\n",
    "    for i in range(len(pred_notes[j])):\n",
    "\n",
    "        \n",
    "        if(np.amax(pred_notes[j][i])!=0):\n",
    "            mult=1.2\n",
    "            time+=1.2*MIN_TIME\n",
    "            endt=time+0.5\n",
    "            _pitch=np.argmax(pred_notes[j][i])+21 \n",
    "            \n",
    "            note = pretty_midi.Note(velocity=127, pitch=min(int(_pitch),108), start=float(time), end=float(endt))\n",
    "            \n",
    "            instrument.notes.append(note)\n",
    "        else:\n",
    "            \n",
    "            time+=mult*MIN_TIME\n",
    "    \n",
    "    instrument_c_chord.instruments.append(instrument)\n",
    "# Write out the MIDI data\n",
    "instrument_c_chord.write('compositions/new_random_fantaisie_2.mid')"
   ]
  },
  {
   "cell_type": "code",
   "execution_count": null,
   "metadata": {},
   "outputs": [],
   "source": []
  }
 ],
 "metadata": {
  "kernelspec": {
   "display_name": "Python 3",
   "language": "python",
   "name": "python3"
  },
  "language_info": {
   "codemirror_mode": {
    "name": "ipython",
    "version": 3
   },
   "file_extension": ".py",
   "mimetype": "text/x-python",
   "name": "python",
   "nbconvert_exporter": "python",
   "pygments_lexer": "ipython3",
   "version": "3.6.7"
  }
 },
 "nbformat": 4,
 "nbformat_minor": 2
}
